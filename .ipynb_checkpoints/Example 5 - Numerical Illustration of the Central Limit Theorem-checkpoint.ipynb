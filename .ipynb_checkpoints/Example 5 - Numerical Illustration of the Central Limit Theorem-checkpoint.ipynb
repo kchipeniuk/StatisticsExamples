{
 "cells": [
  {
   "cell_type": "markdown",
   "id": "08d770bc",
   "metadata": {},
   "source": [
    "<h2> Example 5 - Numerical Illustration of the Central Limit Theorem </h2>"
   ]
  },
  {
   "cell_type": "markdown",
   "id": "1babfef6",
   "metadata": {},
   "source": [
    "In this example we will draw several sample sets of a random variable, calculate the standardized sample mean, and show that the distribution of standardized sample means approximates a standard normal distribution."
   ]
  },
  {
   "cell_type": "code",
   "execution_count": 1,
   "id": "ba807dbc",
   "metadata": {},
   "outputs": [],
   "source": [
    "using Distributions\n",
    "using PyPlot"
   ]
  },
  {
   "cell_type": "markdown",
   "id": "3a2cbcc9",
   "metadata": {},
   "source": [
    "For this exercise, I'll sample from a discrete probability distribution, to highlight that even in this case our limiting distribution will be the continuous $\\text{N}(0,1)$.  Specifically, I'll use a Poisson distribution, which specifies the probability of $k$ independent arrivals occuring in a unit interval, if arrivals happen at mean rate of $\\lambda$ per unit time."
   ]
  },
  {
   "cell_type": "code",
   "execution_count": 2,
   "id": "796682bb",
   "metadata": {},
   "outputs": [
    {
     "data": {
      "text/plain": [
       "1000×10000 Array{Int64,2}:\n",
       " 6  5  10   1  7   7   1   4   3   6  …  7   6   7   3  4  2  6  4   8   4\n",
       " 4  6   5   4  4  10   2   6   5   8     2   9   7   2  4  5  7  4   5   4\n",
       " 4  3   5   6  5   2   7   6  12   5     3   7   9  10  7  4  3  5   8   3\n",
       " 3  4   4   5  6   2   3   2   5   5     4   5   5   4  4  4  4  7   3   3\n",
       " 4  7   4   8  5   9  10   7   5   4     3   5   4   6  4  7  3  4  10   8\n",
       " 3  6   7   4  4   7   7   9   7   4  …  5   5   3   6  7  9  5  4   3   8\n",
       " 2  2   5  10  9  11   6   6   2   5     8   4   9   4  4  2  2  6  10   2\n",
       " 9  7   3   6  2   3   7   7   7   4     3   4   6   8  5  5  4  2   5   5\n",
       " 4  6   6   7  1   3   6  12   7   6     6   4   3   4  8  6  8  7   5   4\n",
       " 4  5  10   3  9   3   3   6   7   1     5   4   4   3  2  5  7  5   7   5\n",
       " 9  9   5   6  4   4   4   3   1   3  …  2   5   2   3  9  5  5  7   4   5\n",
       " 5  9   4   5  9   6   4   7   4   6     6   1   3   5  6  5  7  5   5   8\n",
       " 3  2   3   3  4   6   4  11   5   2     8   3   4   2  5  5  5  4  11   5\n",
       " ⋮                 ⋮                  ⋱  ⋮                 ⋮              \n",
       " 5  4   5   5  5   5   7   3   4   2     3   6   6   5  2  7  3  6   4   6\n",
       " 6  8   5   5  5   9   5   5   4   6     4   6   3   7  6  9  7  6   4  10\n",
       " 8  3   2   7  4   5   7   5   8   2  …  5   8   5   8  4  4  4  8   1   4\n",
       " 6  3   2   5  7   5   2   4   9   7     2   5   2   5  6  4  2  5   6   4\n",
       " 4  2   3   4  7   6   1   1   4   9     3   3   2   6  5  8  8  5   1   4\n",
       " 6  5   8   4  4   7   5   6   4   4     4   6   6   2  3  3  5  7   3   8\n",
       " 6  4   3   4  4   5   4   4   4   6     3   4   7   5  4  8  6  4   4  10\n",
       " 4  8   7   5  7   6   6   3   7   4  …  2   3   3   4  3  5  4  4   5   4\n",
       " 2  6   5   5  5   5   6   6   3   4     7   7  13   5  9  1  6  8   3   6\n",
       " 5  5  10   5  0   5   5   6   6  10     7  12   8   6  3  8  6  7   7   5\n",
       " 6  6   6   7  3   5   7   3   5   6     5   6   9  10  7  6  4  7   7   3\n",
       " 5  6   5   7  7   4   5   4   6   2     5   5   3   3  5  2  5  2   7   8"
      ]
     },
     "execution_count": 2,
     "metadata": {},
     "output_type": "execute_result"
    }
   ],
   "source": [
    "d = Poisson(5);\n",
    "N = 1000;\n",
    "M = 10000;\n",
    "x = rand(d,N,M)"
   ]
  },
  {
   "cell_type": "markdown",
   "id": "171f8cef",
   "metadata": {},
   "source": [
    "To standardize the sample mean, it is enough to substract the population mean and divide by the population standard deviation in each term, and multiply by $\\sqrt{N}$ (so the normalization factor is $1/\\sqrt{N}$)."
   ]
  },
  {
   "cell_type": "code",
   "execution_count": 3,
   "id": "b1225fd5",
   "metadata": {},
   "outputs": [
    {
     "data": {
      "text/plain": [
       "10000-element Array{Float64,1}:\n",
       " -1.131370849898476  \n",
       " -0.07071067811865477\n",
       " -0.6505382386916239 \n",
       "  0.4525483399593902 \n",
       " -0.7212489168102781 \n",
       " -0.3676955262170048 \n",
       " -1.6263455967290597 \n",
       "  1.0748023074035524 \n",
       "  0.39597979746446677\n",
       " -1.34350288425444   \n",
       "  0.4666904755831215 \n",
       "  1.0182337649086284 \n",
       " -1.4142135623730947 \n",
       "  ⋮                  \n",
       " -1.0182337649086286 \n",
       "  0.39597979746446665\n",
       "  2.1496046148071044 \n",
       "  0.33941125496954244\n",
       " -2.064751801064719  \n",
       " -0.1272792206135788 \n",
       "  0.11313708498984763\n",
       "  2.3900209204105307 \n",
       "  0.0989949493661165 \n",
       "  0.282842712474619  \n",
       " -1.0606601717798212 \n",
       "  0.7353910524340093 "
      ]
     },
     "execution_count": 3,
     "metadata": {},
     "output_type": "execute_result"
    }
   ],
   "source": [
    "xAveStandardized = (1.0/sqrt(N))*[sum((x[:,iSamp].-mean(d))./sqrt(var(d))) for iSamp=1:M]"
   ]
  },
  {
   "cell_type": "markdown",
   "id": "a75a0e23",
   "metadata": {},
   "source": [
    "We can now plot a histogram of the above vector and visually verify that it appears to have the shape of a standard normal distribution."
   ]
  },
  {
   "cell_type": "code",
   "execution_count": 4,
   "id": "1ac9c161",
   "metadata": {},
   "outputs": [
    {
     "data": {
      "image/png": "[encoded data removed]",
      "text/plain": [
       "Figure(PyObject <Figure size 640x480 with 1 Axes>)"
      ]
     },
     "metadata": {},
     "output_type": "display_data"
    }
   ],
   "source": [
    "plt.hist(xAveStandardized,100,density=true);"
   ]
  },
  {
   "cell_type": "markdown",
   "id": "79d265df",
   "metadata": {},
   "source": [
    "A more rigorous verification is to actually fit a normal distribution to the data vector.  We can plot the PDF of the fitted distribution along with the data."
   ]
  },
  {
   "cell_type": "code",
   "execution_count": 5,
   "id": "8d44b628",
   "metadata": {},
   "outputs": [
    {
     "ename": "UndefVarError",
     "evalue": "\u001b[91mUndefVarError: xStandardized not defined\u001b[39m",
     "output_type": "error",
     "traceback": [
      "\u001b[91mUndefVarError: xStandardized not defined\u001b[39m",
      "",
      "Stacktrace:",
      " [1] top-level scope at In[5]:1"
     ]
    }
   ],
   "source": [
    "fitNormal = fit(typeof(Normal()),xStandardized);\n",
    "println(\"Mean: \", mean(fitNormal));\n",
    "println(\"Variance: \", var(fitNormal));\n",
    "\n",
    "plt.hist(xAveStandardized,100,density=truelabel=\"Sample\");\n",
    "gx = range(-4,4,length=1000);\n",
    "gPDF = pdf.(fitNormal,gx);\n",
    "plot(gx,gPDF,color=\"orange\",label=\"Normal Fit\");"
   ]
  },
  {
   "cell_type": "markdown",
   "id": "4fc947c6",
   "metadata": {},
   "source": [
    "Finally, we can recompute the sample mean with the scaling $1/N$ instead of $1/\\sqrt{N}$.  Consistent with the law of large numbers, this gives a distribution which is much tighter around the population mean."
   ]
  },
  {
   "cell_type": "code",
   "execution_count": 7,
   "id": "2d6c7d0a",
   "metadata": {},
   "outputs": [
    {
     "data": {
      "image/png": "[encoded data removed]",
      "text/plain": [
       "Figure(PyObject <Figure size 640x480 with 1 Axes>)"
      ]
     },
     "metadata": {},
     "output_type": "display_data"
    },
    {
     "name": "stdout",
     "output_type": "stream",
     "text": [
      "Mean: 5.277120426896262e-6\n",
      "Variance: 0.0009887057321519984\n"
     ]
    }
   ],
   "source": [
    "xAveStandardizedRescaled = (1.0/sqrt(N))*xAveStandardized;\n",
    "fitNormal = fit(typeof(Normal()),xAveStandardizedRescaled);\n",
    "println(\"Mean: \", mean(fitNormal));\n",
    "println(\"Variance: \", var(fitNormal));\n",
    "\n",
    "plt.hist(xAveStandardizedRescaled,100,density=truelabel=\"Sample\");\n",
    "gx = range(-4,4,length=1000);\n",
    "gPDF = pdf.(fitNormal,gx);\n",
    "plot(gx,gPDF,color=\"orange\",label=\"Normal Fit\");"
   ]
  },
  {
   "cell_type": "code",
   "execution_count": null,
   "id": "072d98ca",
   "metadata": {},
   "outputs": [],
   "source": []
  }
 ],
 "metadata": {
  "kernelspec": {
   "display_name": "Julia 1.2.0",
   "language": "julia",
   "name": "julia-1.2"
  },
  "language_info": {
   "file_extension": ".jl",
   "mimetype": "application/julia",
   "name": "julia",
   "version": "1.2.0"
  }
 },
 "nbformat": 4,
 "nbformat_minor": 5
}
