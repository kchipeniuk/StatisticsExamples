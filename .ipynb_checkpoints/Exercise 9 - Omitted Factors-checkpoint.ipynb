{
 "cells": [
  {
   "cell_type": "markdown",
   "id": "524cba82",
   "metadata": {},
   "source": [
    "<h2> Exercise 9 - Omitted Factors </h2>"
   ]
  },
  {
   "cell_type": "markdown",
   "id": "578a3e3c",
   "metadata": {},
   "source": [
    "We now examine how omitted variables correlated with the explanatory variable can bias estimates.  We will do so by considering the specification\n",
    "\\begin{align}\n",
    "y = \\boldsymbol{\\beta}\\boldsymbol{x}' + u\n",
    "\\end{align}\n",
    "where $(\\boldsymbol{x}',u)\\sim \\text{N}(\\boldsymbol{\\mu},\\boldsymbol{\\Sigma}_i)$ for each $i=1,2$ where\n",
    "\\begin{align}\n",
    "\\boldsymbol{\\Sigma}_1  =\\begin{pmatrix}\n",
    "1 & 0 & 0.5 & 0\\\\\n",
    "0 & 1 & 0.5 & 0\\\\\n",
    "0.5 & 0.5 & 1 & 0\\\\\n",
    "0 & 0 & 0 & 1\n",
    "\\end{pmatrix}\n",
    "\\end{align}\n",
    "and\n",
    "\\begin{align}\n",
    "\\boldsymbol{\\Sigma}_2  =\\begin{pmatrix}\n",
    "1 & 0 & 0.5 & 0\\\\\n",
    "0 & 1 & 0 & 0\\\\\n",
    "0.5 & 0 & 1 & 0\\\\\n",
    "0 & 0 & 0 & 1\n",
    "\\end{pmatrix}\n",
    "\\end{align}"
   ]
  },
  {
   "cell_type": "code",
   "execution_count": 33,
   "id": "7b19026a",
   "metadata": {},
   "outputs": [],
   "source": [
    "using Distributions;\n",
    "using PyPlot;\n",
    "\n",
    "Sig1 = [1.0 0.0 0.5 0.0; 0.0 1.0 0.5 0.0; 0.5 0.5 1.0 0.0; 0.0 0.0 0.0 1.0];\n",
    "Sig2 = [1.0 0.0 0.5 0.0; 0.0 1.0 0.0 0.0; 0.5 0.0 1.0 0.0; 0.0 0.0 0.0 1.0];\n",
    "mu = [0.0; 0.0; 0.0; 0.0;];\n",
    "\n",
    "d1 = MvNormal(mu,Sig1);\n",
    "d2 = MvNormal(mu,Sig2);"
   ]
  },
  {
   "cell_type": "markdown",
   "id": "878f565d",
   "metadata": {},
   "source": [
    "We now draw several samples from each distribution, construct $y$ from a chosen vector $\\beta$."
   ]
  },
  {
   "cell_type": "code",
   "execution_count": 39,
   "id": "e091957e",
   "metadata": {},
   "outputs": [],
   "source": [
    "N = 10000;\n",
    "\n",
    "xu1 = rand(d1,N);\n",
    "xu2 = rand(d2,N);\n",
    "\n",
    "x1 = xu1[1:3,:];\n",
    "x2 = xu2[1:3,:];\n",
    "\n",
    "u1 = xu1[4,:];\n",
    "u2 = xu2[4,:];\n",
    "\n",
    "beta = [0.64 0.78 0.25];\n",
    "\n",
    "y1 = (beta*x1)' + u1;\n",
    "y2 = (beta*x2)' + u2;"
   ]
  },
  {
   "cell_type": "markdown",
   "id": "eee42695",
   "metadata": {},
   "source": [
    "We now construct the sample matrices $\\boldsymbol{X}$ and $\\boldsymbol{Y}$ for our regressions.  First, consider regressing $y$ on the full set of variables."
   ]
  },
  {
   "cell_type": "code",
   "execution_count": 45,
   "id": "4f2fd883",
   "metadata": {},
   "outputs": [
    {
     "name": "stdout",
     "output_type": "stream",
     "text": [
      "Full regression, Sig1: [0.6296747453668043; 0.7552913255509044; 0.26342516720001163]\n",
      "Full regression, Sig2: [0.6321842390902478; 0.7914918771962408; 0.2508417840310814]\n",
      "True coefficients: [0.64 0.78 0.25]\n"
     ]
    }
   ],
   "source": [
    "X1 = x1';\n",
    "X2 = x2';\n",
    "Y1 = y1;\n",
    "Y2 = y2;\n",
    "\n",
    "betaHat1 = (X1'*X1)\\(X1'*Y1);\n",
    "betaHat2 = (X2'*X2)\\(X2'*Y2);\n",
    "\n",
    "println(\"Full regression, Sig1: \", betaHat1)\n",
    "println(\"Full regression, Sig2: \", betaHat2)\n",
    "println(\"True coefficients: \", [0.64 0.78 0.25])"
   ]
  },
  {
   "cell_type": "markdown",
   "id": "05282856",
   "metadata": {},
   "source": [
    "In both cases, the results are close to the specified value of $\\boldsymbol{\\beta}$.\n",
    "\n",
    "Next, try only regressing on the explanatory variable, $x_1$."
   ]
  },
  {
   "cell_type": "code",
   "execution_count": 46,
   "id": "33dfc59a",
   "metadata": {},
   "outputs": [
    {
     "name": "stdout",
     "output_type": "stream",
     "text": [
      "Explanatory variable only, Sig1: [0.7612060309089219]\n",
      "Explanatory variable only, Sig2: [0.748261408411741]\n",
      "True coefficient: [0.64]\n"
     ]
    }
   ],
   "source": [
    "X1 = x1[1,:];\n",
    "X2 = x2[1,:];\n",
    "Y1 = y1;\n",
    "Y2 = y2;\n",
    "\n",
    "betaHat1 = (X1'*X1)\\(X1'*Y1);\n",
    "betaHat2 = (X2'*X2)\\(X2'*Y2);\n",
    "\n",
    "println(\"Explanatory variable only, Sig1: \", betaHat1)\n",
    "println(\"Explanatory variable only, Sig2: \", betaHat2)\n",
    "println(\"True coefficient: \", [0.64])"
   ]
  },
  {
   "cell_type": "markdown",
   "id": "fc211978",
   "metadata": {},
   "source": [
    "In both cases we are missing controls, so the results are no longer close to the first component of $\\boldsymbol{\\beta}$.  Next, let's add back in $x_2$."
   ]
  },
  {
   "cell_type": "code",
   "execution_count": 47,
   "id": "0f9294bd",
   "metadata": {},
   "outputs": [
    {
     "name": "stdout",
     "output_type": "stream",
     "text": [
      "Explanatory variable only, Sig1: [0.7583788575756066; 0.8843428034909009]\n",
      "Explanatory variable only, Sig2: [0.755411526969277; 0.7944880085164532]\n",
      "True coefficients: [0.64 0.78]\n"
     ]
    }
   ],
   "source": [
    "X1 = x1[1:2,:]';\n",
    "X2 = x2[1:2,:]';\n",
    "Y1 = y1;\n",
    "Y2 = y2;\n",
    "\n",
    "betaHat1 = (X1'*X1)\\(X1'*Y1);\n",
    "betaHat2 = (X2'*X2)\\(X2'*Y2);\n",
    "\n",
    "println(\"Explanatory variable only, Sig1: \", betaHat1)\n",
    "println(\"Explanatory variable only, Sig2: \", betaHat2)\n",
    "println(\"True coefficients: \", [0.64 0.78])"
   ]
  },
  {
   "cell_type": "markdown",
   "id": "ebd8330d",
   "metadata": {},
   "source": [
    "We still do not get a result which closely estimates the specified value, since in both cases $x_1$ is correlated with the third variable $x_3$.  However, in the second specification we <b> do </b> get a decent estimate of the coefficient on $x_2$, since this variable is uncorrelated with both $x_1$ and $x_3$.  Finally, estimating using $x_1$ and $x_3$:"
   ]
  },
  {
   "cell_type": "code",
   "execution_count": 48,
   "id": "8699d06d",
   "metadata": {},
   "outputs": [
    {
     "name": "stdout",
     "output_type": "stream",
     "text": [
      "Explanatory variable only, Sig1: [0.38181585226372095; 0.774035714412056]\n",
      "Explanatory variable only, Sig2: [0.6188294601506036; 0.26352967126902094]\n",
      "True coefficients: [0.64 0.25]\n"
     ]
    }
   ],
   "source": [
    "X1 = [x1[1,:] x1[3,:]];\n",
    "X2 = [x2[1,:] x2[3,:]];\n",
    "Y1 = y1;\n",
    "Y2 = y2;\n",
    "\n",
    "betaHat1 = (X1'*X1)\\(X1'*Y1);\n",
    "betaHat2 = (X2'*X2)\\(X2'*Y2);\n",
    "\n",
    "println(\"Explanatory variable only, Sig1: \", betaHat1)\n",
    "println(\"Explanatory variable only, Sig2: \", betaHat2)\n",
    "println(\"True coefficients: \", [0.64 0.25])"
   ]
  },
  {
   "cell_type": "markdown",
   "id": "3a0fe797",
   "metadata": {},
   "source": [
    "In the first specification, the correlation of $x_3$ with $x_2$ still results in <b> both </b> coefficients being biased.  In the second specification, with this correlation removed, we see that including the single control $x_3$ is enough to obtain a decent estimate of the coefficient on the explanatory variable $x_1$."
   ]
  },
  {
   "cell_type": "code",
   "execution_count": null,
   "id": "5f9c367d",
   "metadata": {},
   "outputs": [],
   "source": []
  }
 ],
 "metadata": {
  "kernelspec": {
   "display_name": "Julia 1.2.0",
   "language": "julia",
   "name": "julia-1.2"
  },
  "language_info": {
   "file_extension": ".jl",
   "mimetype": "application/julia",
   "name": "julia",
   "version": "1.2.0"
  }
 },
 "nbformat": 4,
 "nbformat_minor": 5
}
