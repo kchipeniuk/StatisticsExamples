{
 "cells": [
  {
   "cell_type": "markdown",
   "id": "8c692f68",
   "metadata": {},
   "source": [
    "<h2> Distribution of a Stopping Time for a Random Walk </h2>"
   ]
  },
  {
   "cell_type": "markdown",
   "id": "f6b239ce",
   "metadata": {},
   "source": [
    "We'll now compute the distribution of the random variable\n",
    "$$\n",
    "X := \\inf\\{t:s_t<0\\}\n",
    "$$\n",
    "where $s_t$ is the random walk from the previous example and where $\\inf$ denotes the infimum, which can intuitively be thought of as the minimum.  Hence $X$ gives the first time that the random walk becomes negative, which is an example of a particular class of random variables referred to as <i> stopping times</i>.\n",
    "\n",
    "Accordingly, $X$ is a discrete random variable which can take values $1,2,3,...$ with positive probability.  Our aim now is to get an estimate of these probabilities.\n",
    "\n",
    "We begin by repeating the simulation exercise from the second part of the previous example."
   ]
  },
  {
   "cell_type": "code",
   "execution_count": 15,
   "id": "42eb0b2f",
   "metadata": {},
   "outputs": [],
   "source": [
    "using Distributions\n",
    "using PyPlot\n",
    "\n",
    "p = 0.5;\n",
    "d = Bernoulli(p);\n",
    "T = 100;\n",
    "\n",
    "N = 100000;\n",
    "BernDraws = rand(d,T,N)\n",
    "\n",
    "WalkSteps = (BernDraws.>=1) + -1*(BernDraws.<=0);\n",
    "WalkSteps[1,:] = zeros(N);\n",
    "\n",
    "st = cumsum(WalkSteps,dims=1);"
   ]
  },
  {
   "cell_type": "markdown",
   "id": "6f952cd2",
   "metadata": {},
   "source": [
    "We now want to find the first index in each column of $s_t$ at which a -1 is encountered.  Luckily Julia provides a function to do this, findfirst().  Once again, the arguments this function takes require some explanation.\n",
    "\n",
    "1. The second argument of findfirst() is simply a vector we want to search through.  \n",
    "\n",
    "2. The first argument is itself a function, which should return 1 when the condition you want to find the first incident of is satisfied.  For example, we are interested in the condition that a number is equal to 1.  A mathematical function which checks this condition is the following:\n",
    "$$\n",
    "f(x) = \\begin{cases}\n",
    "1 & \\text{if } x=-1\\\\\n",
    "0 & \\text{else}\n",
    "\\end{cases}\n",
    "$$\n",
    "We can represent this function in Julia a couple of different ways: we can use the keywords \"function\" and \"return\", or for a function this simple we can define it \"in-line\" with the $\\to$ operator."
   ]
  },
  {
   "cell_type": "code",
   "execution_count": 16,
   "id": "b689421f",
   "metadata": {},
   "outputs": [
    {
     "name": "stdout",
     "output_type": "stream",
     "text": [
      "false\n",
      "true\n",
      "false\n",
      "true\n"
     ]
    }
   ],
   "source": [
    "function f(x)\n",
    "    return x==-1\n",
    "end\n",
    "\n",
    "println(f(0))\n",
    "println(f(-1))\n",
    "\n",
    "g = x->x==-1\n",
    "\n",
    "println(g(0))\n",
    "println(g(-1))"
   ]
  },
  {
   "cell_type": "markdown",
   "id": "7919aca9",
   "metadata": {},
   "source": [
    "To search through $s_t$ columnwise, we can use Julia's shorthand syntax to iterate over a collection.  A for loop would also work."
   ]
  },
  {
   "cell_type": "code",
   "execution_count": 17,
   "id": "653daf42",
   "metadata": {},
   "outputs": [
    {
     "data": {
      "text/plain": [
       "100000-element Array{Union{Nothing, Int64},1}:\n",
       "  2\n",
       " 10\n",
       "  4\n",
       "  2\n",
       " 68\n",
       "  2\n",
       " 10\n",
       "  2\n",
       "  2\n",
       "  2\n",
       "  4\n",
       " 32\n",
       "  2\n",
       "  ⋮\n",
       " 34\n",
       "  2\n",
       "  2\n",
       "  4\n",
       "  2\n",
       "  2\n",
       " 18\n",
       "  2\n",
       "  4\n",
       "  2\n",
       "  2\n",
       "  2"
      ]
     },
     "execution_count": 17,
     "metadata": {},
     "output_type": "execute_result"
    }
   ],
   "source": [
    "FirstNegative = [findfirst(u->u==-1,st[:,iSim]) for iSim=1:N]"
   ]
  },
  {
   "cell_type": "markdown",
   "id": "478590b7",
   "metadata": {},
   "source": [
    "It's possible that some of the simulations never actually hit -1.  In such case, findfirst() records a value of \"nothing\" in FirstNegative.  These are outcomes for which the value of $X$ is greater than the horizon $T$.  Hence we'll keep them in our total number of simulations, however they will not otherwise inform us about the distribution for the range in which we're computing it.\n",
    "\n",
    "Next, we count the number of simulations for which the value of $X$ is equal to $t$ for each $t=2,3,...,T$, and divide by the total number of simulations $N$."
   ]
  },
  {
   "cell_type": "code",
   "execution_count": 23,
   "id": "cc932d21",
   "metadata": {},
   "outputs": [
    {
     "data": {
      "text/plain": [
       "99-element Array{Float64,1}:\n",
       " 0.4988 \n",
       " 0.0    \n",
       " 0.12503\n",
       " 0.0    \n",
       " 0.06245\n",
       " 0.0    \n",
       " 0.03918\n",
       " 0.0    \n",
       " 0.02786\n",
       " 0.0    \n",
       " 0.02077\n",
       " 0.0    \n",
       " 0.01601\n",
       " ⋮      \n",
       " 0.0    \n",
       " 0.001  \n",
       " 0.0    \n",
       " 0.0011 \n",
       " 0.0    \n",
       " 0.00094\n",
       " 0.0    \n",
       " 0.00077\n",
       " 0.0    \n",
       " 0.00093\n",
       " 0.0    \n",
       " 0.0008 "
      ]
     },
     "execution_count": 23,
     "metadata": {},
     "output_type": "execute_result"
    }
   ],
   "source": [
    "probs = [sum(FirstNegative.==t) for t=2:T]./convert(Float64,N)"
   ]
  },
  {
   "cell_type": "markdown",
   "id": "c7f13566",
   "metadata": {},
   "source": [
    "We can now plot the PDF of $X$."
   ]
  },
  {
   "cell_type": "code",
   "execution_count": 36,
   "id": "f7cc3097",
   "metadata": {
    "scrolled": false
   },
   "outputs": [
    {
     "data": {
      "image/png": "[encoded data removed]",
      "text/plain": [
       "Figure(PyObject <Figure size 640x480 with 1 Axes>)"
      ]
     },
     "metadata": {},
     "output_type": "display_data"
    }
   ],
   "source": [
    "plot(0:1:101,zeros(length(0:1:101)),color=\"k\")\n",
    "PyPlot.plt.bar(2:1:T,probs);\n",
    "xlim([1;30]);"
   ]
  },
  {
   "cell_type": "markdown",
   "id": "acbb9a3a",
   "metadata": {},
   "source": [
    "We see that $X$ never takes an odd value, has a 50% probability of being 2 (since the first coin flip is fair), and otherwise decays thereafter.  To compute this distribution precisely, we could argue as follows:\n",
    "\n",
    "1. As noted, the random walk has a 50% chance of starting with a negative step, so $f_X(2)=0.5$.\n",
    "2. If the walk starts with a positive step, its value at $t=3$ will be either 0 or 2, so $f_X(3) = 0$.\n",
    "3. If its value at $t=3$ is 2, then it's value at $t=4$ will be 1 or 3.  If its value at $t=3$ is 0, its value at $t=4$ will be either 1 or -1.\n",
    "4. And so on.\n",
    "\n",
    "As of each step, the total number of outcomes is $1/2^{t-1}$, giving $f_X(4) = 0.125$, $f_X(5)=0$, $f_X(6) = 0.0625$, etc.  \n",
    "\n",
    "I haven't tried to see if I can derive a closed form expression for the probabilities at each step, but even if this is not possible the above algorithm could be modified to compute them exactly."
   ]
  },
  {
   "cell_type": "code",
   "execution_count": null,
   "id": "e04fdcc0",
   "metadata": {},
   "outputs": [],
   "source": []
  }
 ],
 "metadata": {
  "kernelspec": {
   "display_name": "Julia 1.2.0",
   "language": "julia",
   "name": "julia-1.2"
  },
  "language_info": {
   "file_extension": ".jl",
   "mimetype": "application/julia",
   "name": "julia",
   "version": "1.2.0"
  }
 },
 "nbformat": 4,
 "nbformat_minor": 5
}
