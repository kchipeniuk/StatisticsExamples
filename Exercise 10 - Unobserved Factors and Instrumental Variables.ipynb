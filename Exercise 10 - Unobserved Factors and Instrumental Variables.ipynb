{
 "cells": [
  {
   "cell_type": "markdown",
   "id": "d40f1c80",
   "metadata": {},
   "source": [
    "<h2> Exercise 10 - Unobserved Factors and Instrumental Variables </h2>"
   ]
  },
  {
   "cell_type": "markdown",
   "id": "dda55239",
   "metadata": {},
   "source": [
    "We now consider cases in which our explanatory variable is correlated with the error term in the specification\n",
    "\\begin{align}\n",
    "y = \\beta x + u\n",
    "\\end{align}\n",
    "and how the estimate of $\\beta$ using an instrument $z$ is affect by one of the conditions\n",
    "\\begin{align}\n",
    "\\mathbb{E}zu &= 0\\notag\\\\\n",
    "\\mathbb{E}zx &\\neq 0\\notag\n",
    "\\end{align}\n",
    "being invalid."
   ]
  },
  {
   "cell_type": "code",
   "execution_count": 1,
   "id": "aa4396a5",
   "metadata": {},
   "outputs": [],
   "source": [
    "using Distributions;\n",
    "using PyPlot;"
   ]
  },
  {
   "cell_type": "markdown",
   "id": "47add2ea",
   "metadata": {},
   "source": [
    "First we consider the case where both conditions are satisfied."
   ]
  },
  {
   "cell_type": "code",
   "execution_count": 15,
   "id": "9a05d47d",
   "metadata": {},
   "outputs": [
    {
     "name": "stdout",
     "output_type": "stream",
     "text": [
      "Covariance between x and u: 0.1733398969147499\n",
      "Covariance between x and z: 0.2682181204995582\n",
      "Covariance between z and u: 0.0019402757000700765\n",
      "\n",
      "OLS estimator: 0.1915295957501989\n",
      "IV estimator: 0.10363222528008577\n"
     ]
    }
   ],
   "source": [
    "N = 10000;\n",
    "beta = 0.1;\n",
    "u = rand(Uniform(-1,1),N)\n",
    "\n",
    "z = u.*u;\n",
    "x = 3*z+0.5*u;\n",
    "y = beta*x + u;\n",
    "\n",
    "println(\"Covariance between x and u: \", cov(x,u))\n",
    "println(\"Covariance between x and z: \", cov(x,z))\n",
    "println(\"Covariance between z and u: \", cov(z,u))\n",
    "println()\n",
    "\n",
    "betaHat = (x'*y)/(x'*x);\n",
    "betaHatIV = (z'*y)/(z'*x);\n",
    "\n",
    "println(\"OLS estimator: \", betaHat)\n",
    "println(\"IV estimator: \", betaHatIV)"
   ]
  },
  {
   "cell_type": "markdown",
   "id": "04556dac",
   "metadata": {},
   "source": [
    "While the IV estimator is quite close to true value, the OLS estimator is significantly biased upwards."
   ]
  },
  {
   "cell_type": "markdown",
   "id": "4217106b",
   "metadata": {},
   "source": [
    "Next, we consider the case where the first condition is not satisfied, so the prospective instrument is actually correlated with $u$."
   ]
  },
  {
   "cell_type": "code",
   "execution_count": 16,
   "id": "e49cab73",
   "metadata": {},
   "outputs": [
    {
     "name": "stdout",
     "output_type": "stream",
     "text": [
      "Covariance between x and u: 1.1519427921151577\n",
      "Covariance between x and z: 1.1519427921151577\n",
      "Covariance between z and u: 0.3291265120329029\n",
      "\n",
      "OLS estimator: 0.38571428571428573\n",
      "IV estimator: 0.3857142857142856\n"
     ]
    }
   ],
   "source": [
    "N = 10000;\n",
    "beta = 0.1;\n",
    "u = rand(Uniform(-1,1),N)\n",
    "\n",
    "z = u;\n",
    "x = 3*z+0.5*u;\n",
    "y = beta*x + u;\n",
    "\n",
    "println(\"Covariance between x and u: \", cov(x,u))\n",
    "println(\"Covariance between x and z: \", cov(x,z))\n",
    "println(\"Covariance between z and u: \", cov(z,u))\n",
    "println()\n",
    "\n",
    "betaHat = (x'*y)/(x'*x);\n",
    "betaHatIV = (z'*y)/(z'*x);\n",
    "\n",
    "println(\"OLS estimator: \", betaHat)\n",
    "println(\"IV estimator: \", betaHatIV)"
   ]
  },
  {
   "cell_type": "markdown",
   "id": "a2399f6f",
   "metadata": {},
   "source": [
    "Now both the OLS and IV estimators are heavily biased upwards.\n",
    "\n",
    "Finally, we consider the case where the correlation between $x$ and $z$ is very small, typically referred to as having a <i> weak instrument </i>."
   ]
  },
  {
   "cell_type": "code",
   "execution_count": 17,
   "id": "15884889",
   "metadata": {},
   "outputs": [
    {
     "name": "stdout",
     "output_type": "stream",
     "text": [
      "Covariance between x and u: 0.1671371617162454\n",
      "Covariance between x and z: -0.001772738080724136\n",
      "Covariance between z and u: -0.0035454779334527717\n",
      "\n",
      "OLS estimator: 2.100000000510748\n",
      "IV estimator: 2.1000018773854827\n"
     ]
    }
   ],
   "source": [
    "N = 10000;\n",
    "beta = 0.1;\n",
    "u = rand(Uniform(-1,1),N)\n",
    "\n",
    "z = u.*u;\n",
    "x = (1e-8)*z+0.5*u;\n",
    "y = beta*x + u;\n",
    "\n",
    "println(\"Covariance between x and u: \", cov(x,u))\n",
    "println(\"Covariance between x and z: \", cov(x,z))\n",
    "println(\"Covariance between z and u: \", cov(z,u))\n",
    "println()\n",
    "\n",
    "betaHat = (x'*y)/(x'*x);\n",
    "betaHatIV = (z'*y)/(z'*x);\n",
    "\n",
    "println(\"OLS estimator: \", betaHat)\n",
    "println(\"IV estimator: \", betaHatIV)"
   ]
  },
  {
   "cell_type": "markdown",
   "id": "792b9b0d",
   "metadata": {},
   "source": [
    "Once again this leads to a very biased IV estimator, even though the population conditions are satisfied in the precise mathematical sense.  This continues to be problematic even with a much larger coefficient on $z$ in the specification of $x$."
   ]
  },
  {
   "cell_type": "code",
   "execution_count": 23,
   "id": "47d7729c",
   "metadata": {},
   "outputs": [
    {
     "name": "stdout",
     "output_type": "stream",
     "text": [
      "Covariance between x and u: 0.1645447657943272\n",
      "Covariance between x and z: 0.0006106922130842042\n",
      "Covariance between z and u: -0.000527823387215736\n",
      "\n",
      "OLS estimator: 2.099714931142283\n",
      "IV estimator: -1.2384061423303538\n"
     ]
    }
   ],
   "source": [
    "N = 10000;\n",
    "beta = 0.1;\n",
    "u = rand(Uniform(-1,1),N)\n",
    "\n",
    "z = u.*u;\n",
    "x = (1e-2)*z+0.5*u;\n",
    "y = beta*x + u;\n",
    "\n",
    "println(\"Covariance between x and u: \", cov(x,u))\n",
    "println(\"Covariance between x and z: \", cov(x,z))\n",
    "println(\"Covariance between z and u: \", cov(z,u))\n",
    "println()\n",
    "\n",
    "betaHat = (x'*y)/(x'*x);\n",
    "betaHatIV = (z'*y)/(z'*x);\n",
    "\n",
    "println(\"OLS estimator: \", betaHat)\n",
    "println(\"IV estimator: \", betaHatIV)"
   ]
  },
  {
   "cell_type": "code",
   "execution_count": null,
   "id": "4533d6b1",
   "metadata": {},
   "outputs": [],
   "source": []
  }
 ],
 "metadata": {
  "kernelspec": {
   "display_name": "Julia 1.2.0",
   "language": "julia",
   "name": "julia-1.2"
  },
  "language_info": {
   "file_extension": ".jl",
   "mimetype": "application/julia",
   "name": "julia",
   "version": "1.2.0"
  }
 },
 "nbformat": 4,
 "nbformat_minor": 5
}
