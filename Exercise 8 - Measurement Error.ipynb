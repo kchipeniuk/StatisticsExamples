{
 "cells": [
  {
   "cell_type": "markdown",
   "id": "9281650d",
   "metadata": {},
   "source": [
    "<h2> Exercise 8 - Measurement Error </h2>"
   ]
  },
  {
   "cell_type": "markdown",
   "id": "53b67d91",
   "metadata": {},
   "source": [
    "We now demonstrate how measurement error in the dependent variable is typically not a concern, while measurement error in the explanatory variable which is uncorrelated with its true value biases estimates and increases the chance of a Type II error.  For this exercise, I'll samples from an exponential distribution, which is a special case of the $\\Gamma$ distribution giving the time between arrivals in a Poisson process."
   ]
  },
  {
   "cell_type": "code",
   "execution_count": 4,
   "id": "7912ad2b",
   "metadata": {},
   "outputs": [
    {
     "name": "stdout",
     "output_type": "stream",
     "text": [
      "Estimate using true values: 2.003328474256487\n"
     ]
    }
   ],
   "source": [
    "using Distributions;\n",
    "using PyPlot;\n",
    "\n",
    "d = Exponential();\n",
    "N = 10000;\n",
    "beta = 2.0;\n",
    "\n",
    "x = rand(d,N);\n",
    "eps = rand(Normal(),N);\n",
    "y = beta * x + eps;\n",
    "betaHat = (x'*y)/(x'*x);\n",
    "\n",
    "println(\"Estimate using true values: \", betaHat)"
   ]
  },
  {
   "cell_type": "markdown",
   "id": "566da910",
   "metadata": {},
   "source": [
    "We begin by introducing measurement error $\\epsilon_{\\text{meas}}$ into $y$, resulting in an observed variable $y_{\\text{obs}}\\neq y$.  First we'll consider the case where the measurement error is correlated with the true value by setting it equal to the residual in the DGP for $y$."
   ]
  },
  {
   "cell_type": "code",
   "execution_count": 5,
   "id": "a8724a1d",
   "metadata": {},
   "outputs": [
    {
     "name": "stdout",
     "output_type": "stream",
     "text": [
      "Covariance between measurement error and true value of y: 0.9863863186621228\n"
     ]
    }
   ],
   "source": [
    "epsMeas = eps;\n",
    "yObs = y + epsMeas;\n",
    "println(\"Covariance between measurement error and true value of y: \", cov(y,epsMeas))"
   ]
  },
  {
   "cell_type": "markdown",
   "id": "339ec379",
   "metadata": {},
   "source": [
    "Now we regress $y_{\\text{obs}}$ on $x$ to see how this affects our estimate of $\\beta$."
   ]
  },
  {
   "cell_type": "code",
   "execution_count": 6,
   "id": "0dbc960a",
   "metadata": {},
   "outputs": [
    {
     "name": "stdout",
     "output_type": "stream",
     "text": [
      "Estimate using yObs: 2.006656948512974\n"
     ]
    }
   ],
   "source": [
    "betaHat1 = (x'*yObs)/(x'*x)\n",
    "println(\"Estimate using yObs: \", betaHat1)"
   ]
  },
  {
   "cell_type": "markdown",
   "id": "97799a6e",
   "metadata": {},
   "source": [
    "The estimated coefficient is only affected minimally.  Likewise, if we repeat the exercise with measurement errors uncorrelated with the true value of $y$:"
   ]
  },
  {
   "cell_type": "code",
   "execution_count": 7,
   "id": "655a4176",
   "metadata": {},
   "outputs": [
    {
     "name": "stdout",
     "output_type": "stream",
     "text": [
      "Covariance between measurement error and true value of y: 0.0021257177236058944\n",
      "Estimate using yObs: 2.0035028125287533\n"
     ]
    }
   ],
   "source": [
    "epsMeas = rand(Normal(),N);\n",
    "yObs = y + epsMeas;\n",
    "println(\"Covariance between measurement error and true value of y: \", cov(y,epsMeas))\n",
    "betaHat2 = (x'*yObs)/(x'*x)\n",
    "println(\"Estimate using yObs: \", betaHat2)"
   ]
  },
  {
   "cell_type": "markdown",
   "id": "47e23d73",
   "metadata": {},
   "source": [
    "However, if we consider measurement errors in the explanatory variable $x$ which are uncorrelated with the true value:"
   ]
  },
  {
   "cell_type": "code",
   "execution_count": 8,
   "id": "175b4f91",
   "metadata": {},
   "outputs": [
    {
     "name": "stdout",
     "output_type": "stream",
     "text": [
      "Covariance between measurement error and true value of x: -0.0033819304899209007\n",
      "Estimate using xObs: 1.3280087904244329\n"
     ]
    }
   ],
   "source": [
    "epsMeas = rand(Normal(),N);\n",
    "xObs = x + epsMeas;\n",
    "println(\"Covariance between measurement error and true value of x: \", cov(x,epsMeas))\n",
    "betaHat3 = (xObs'*y)/(xObs'*xObs)\n",
    "println(\"Estimate using xObs: \", betaHat3)"
   ]
  },
  {
   "cell_type": "markdown",
   "id": "7a6668fa",
   "metadata": {},
   "source": [
    "As theory suggests, the error is now biased downwards, increasing the chance of a Type II error."
   ]
  }
 ],
 "metadata": {
  "kernelspec": {
   "display_name": "Julia 1.2.0",
   "language": "julia",
   "name": "julia-1.2"
  },
  "language_info": {
   "file_extension": ".jl",
   "mimetype": "application/julia",
   "name": "julia",
   "version": "1.2.0"
  }
 },
 "nbformat": 4,
 "nbformat_minor": 5
}
